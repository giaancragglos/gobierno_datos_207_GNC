{
 "cells": [
  {
   "cell_type": "code",
   "execution_count": null,
   "metadata": {},
   "outputs": [],
   "source": [
    "from pyspark.sql import SparkSession\n",
    "\n",
    "# Crear la sesión de Spark\n",
    "spark = SparkSession.builder \\\n",
    "    .appName(\"Leer Parquet local\") \\\n",
    "    .getOrCreate()\n",
    "\n",
    "# Leer el archivo parquet\n",
    "df = spark.read.parquet(\"data/part-00003-87be6d73-abed-4095-a7fb-feb68d418ad6-c000.snappy.parquet\")  # Reemplazá con tu ruta real\n",
    "\n",
    "# Mostrar las primeras filas\n",
    "df.show(5)\n",
    "\n",
    "# Ver el esquema\n",
    "df.printSchema()"
   ]
  }
 ],
 "metadata": {
  "language_info": {
   "name": "python"
  }
 },
 "nbformat": 4,
 "nbformat_minor": 2
}
